{
 "cells": [
  {
   "cell_type": "markdown",
   "metadata": {},
   "source": [
    "# Python functions and modules"
   ]
  },
  {
   "cell_type": "markdown",
   "metadata": {},
   "source": [
    "## 1. Defining a Function\n",
    "\n",
    "You can define functions to provide the required functionality. Here are simple rules to define a function in Python and the syntax:\n",
    "\n",
    "- Function blocks begin with the keyword `def` followed by the function name, parentheses ( ( ) ) and a colon (:).\n",
    "- Any input parameters or arguments should be placed within the parentheses. You can also define parameters inside these parentheses.\n",
    "- Next is the first statement of the function, which can be an optional statement - the documentation string of the function or docstring.\n",
    "- The code block is next. It needs to be indented.\n",
    "- The statement `return [expression]` exits a function and, optionally, passes back an expression to the caller. A return statement with no arguments is the same as `return None`.\n",
    "\n",
    "```\n",
    "def functionname( parameters ):\n",
    "    \"function_docstring\"\n",
    "    function_suite\n",
    "    return [expression]\n",
    "```"
   ]
  },
  {
   "cell_type": "markdown",
   "metadata": {},
   "source": [
    "#### Example\n",
    "\n",
    "The following function takes a string as input parameter and prints it on standard screen."
   ]
  },
  {
   "cell_type": "code",
   "execution_count": 10,
   "metadata": {
    "collapsed": true
   },
   "outputs": [],
   "source": [
    "def printme( str ):\n",
    "   \"This prints a passed string into this function\"\n",
    "   print str\n",
    "   return"
   ]
  },
  {
   "cell_type": "markdown",
   "metadata": {},
   "source": [
    "#### Example \n",
    "\n",
    "The following function takes two numbers and returns and prints their sum."
   ]
  },
  {
   "cell_type": "code",
   "execution_count": 11,
   "metadata": {
    "collapsed": true
   },
   "outputs": [],
   "source": [
    "def addme( a, b ):\n",
    "   \"This adds passed arguments.\"\n",
    "   return a+b"
   ]
  },
  {
   "cell_type": "markdown",
   "metadata": {},
   "source": [
    "## 2. Calling a Function\n",
    "\n",
    "Defining a function only gives it a name, specifies the parameters that are to be included in the function and structures the blocks of code.\n",
    "\n",
    "Once the basic structure of a function is finalized, you can execute it by calling it directly from the Python prompt. Note that by default, parameters have a positional behavior and, if there is more than one, you need to input them in the same order that they were defined. "
   ]
  },
  {
   "cell_type": "markdown",
   "metadata": {},
   "source": [
    "#### Example"
   ]
  },
  {
   "cell_type": "code",
   "execution_count": 12,
   "metadata": {
    "collapsed": false
   },
   "outputs": [
    {
     "name": "stdout",
     "output_type": "stream",
     "text": [
      "I'm first call to user defined function!\n",
      "Again second call to the same function\n",
      "1 plus 2 is 3\n"
     ]
    }
   ],
   "source": [
    "printme(\"I'm first call to user defined function!\")\n",
    "printme(\"Again second call to the same function\") \n",
    "print '1 plus 2 is', addme(1,2)"
   ]
  },
  {
   "cell_type": "markdown",
   "metadata": {},
   "source": [
    "## 3. Function Arguments\n",
    "\n",
    "Functions have different types of arguments:\n",
    "\n",
    "#### Required arguments\n",
    "\n",
    "Required arguments are the arguments passed to a function in correct positional order. Here, the number of arguments in the function call should match exactly with the function definition.\n",
    "\n",
    "To call the function `printme()`, you definitely need to pass one argument, otherwise it gives a syntax error.\n",
    "\n",
    "Similarly, for `addme()` you need to pass two arguments."
   ]
  },
  {
   "cell_type": "markdown",
   "metadata": {},
   "source": [
    "#### Keyword arguments\n",
    "\n",
    "Keyword arguments are related to the function calls. When you use keyword arguments in a function call, the caller identifies the arguments by the parameter name.\n",
    "\n",
    "This allows you to skip arguments or place them out of order because the Python interpreter is able to use the keywords provided to match the values with parameters. \n",
    "\n",
    "For example, the following code:"
   ]
  },
  {
   "cell_type": "code",
   "execution_count": 13,
   "metadata": {
    "collapsed": false
   },
   "outputs": [
    {
     "name": "stdout",
     "output_type": "stream",
     "text": [
      "My string\n"
     ]
    }
   ],
   "source": [
    "printme( str = \"My string\")"
   ]
  },
  {
   "cell_type": "markdown",
   "metadata": {},
   "source": [
    "The following example gives a more clear picture. Note that when keyword arguments are used, the order of parameters does not matter."
   ]
  },
  {
   "cell_type": "code",
   "execution_count": 14,
   "metadata": {
    "collapsed": false
   },
   "outputs": [
    {
     "name": "stdout",
     "output_type": "stream",
     "text": [
      "Name:  miki\n",
      "Age:  50\n"
     ]
    }
   ],
   "source": [
    "# Function definition is here\n",
    "def printinfo( name, age ):\n",
    "   \"This prints a passed info into this function\"\n",
    "   print \"Name: \", name\n",
    "   print \"Age: \", age\n",
    "   return\n",
    "\n",
    "# Now you can call printinfo function\n",
    "printinfo( age=50, name=\"miki\" )"
   ]
  },
  {
   "cell_type": "markdown",
   "metadata": {},
   "source": [
    "#### Default arguments\n",
    "\n",
    "A default argument is an argument that assumes a default value if a value is not provided in the function call for that argument. The following example gives an idea on default arguments, it prints default age if it is not passed −"
   ]
  },
  {
   "cell_type": "code",
   "execution_count": 15,
   "metadata": {
    "collapsed": false
   },
   "outputs": [
    {
     "name": "stdout",
     "output_type": "stream",
     "text": [
      "Name:  miki\n",
      "Age  50\n",
      "Name:  miki\n",
      "Age  35\n"
     ]
    }
   ],
   "source": [
    "# Function definition is here\n",
    "def printinfo( name, age = 35 ):\n",
    "   \"This prints a passed info into this function\"\n",
    "   print \"Name: \", name\n",
    "   print \"Age \", age\n",
    "   return;\n",
    "\n",
    "# Now you can call printinfo function\n",
    "printinfo( age=50, name=\"miki\" )\n",
    "printinfo( name=\"miki\" )"
   ]
  },
  {
   "cell_type": "markdown",
   "metadata": {},
   "source": [
    "#### Variable-length arguments\n",
    "\n",
    "You may need to process a function for more arguments than you specified while defining the function. These arguments are called variable-length arguments and are not named in the function definition, unlike required and default arguments.\n",
    "\n",
    "Syntax for a function with non-keyword variable arguments is this −\n",
    "\n",
    "```\n",
    "def functionname([formal_args,] *var_args_tuple ):\n",
    "   \"function_docstring\"\n",
    "   function_suite\n",
    "   return [expression]\n",
    "```\n",
    "\n",
    "An asterisk (*) is placed before the variable name that holds the values of all nonkeyword variable arguments. This tuple remains empty if no additional arguments are specified during the function call. "
   ]
  },
  {
   "cell_type": "code",
   "execution_count": 16,
   "metadata": {
    "collapsed": false
   },
   "outputs": [
    {
     "name": "stdout",
     "output_type": "stream",
     "text": [
      "Output is: \n",
      "10\n",
      "Output is: \n",
      "70\n",
      "60\n",
      "50\n"
     ]
    }
   ],
   "source": [
    "# Function definition is here\n",
    "def printinfo( arg1, *vartuple ):\n",
    "   \"This prints a variable passed arguments\"\n",
    "   print \"Output is: \"\n",
    "   print arg1\n",
    "   for var in vartuple:\n",
    "      print var\n",
    "   return;\n",
    "\n",
    "# Now you can call printinfo function\n",
    "printinfo( 10 )\n",
    "printinfo( 70, 60, 50 )"
   ]
  },
  {
   "cell_type": "markdown",
   "metadata": {},
   "source": [
    "## 4. Anonymous Functions\n",
    "\n",
    "These functions are called anonymous because they are not declared in the standard manner by using the `def` keyword. You can use the `lambda` keyword to create small anonymous functions.\n",
    "\n",
    "Lambda forms can take any number of arguments but return just one value in the form of an expression. They cannot contain commands or multiple expressions."
   ]
  },
  {
   "cell_type": "markdown",
   "metadata": {},
   "source": [
    "#### Syntax\n",
    "\n",
    "The syntax of `lambda` functions contains only a single statement, which is as follows:\n",
    "\n",
    "`lambda [arg1 [,arg2,.....argn]]:expression`"
   ]
  },
  {
   "cell_type": "code",
   "execution_count": 12,
   "metadata": {
    "collapsed": false
   },
   "outputs": [
    {
     "name": "stdout",
     "output_type": "stream",
     "text": [
      "Value of total :  30\n",
      "Value of total :  40\n"
     ]
    }
   ],
   "source": [
    "# Function definition is here - this function has two arguments and it adds them up\n",
    "sum = lambda arg1, arg2: arg1 + arg2;\n",
    "\n",
    "# Now you can call sum as a function\n",
    "print \"Value of total : \", sum( 10, 20 )\n",
    "print \"Value of total : \", sum( 20, 20 )"
   ]
  },
  {
   "cell_type": "markdown",
   "metadata": {},
   "source": [
    "## 5. The return Statement\n",
    "\n",
    "We briefly used the return statement `return [expression]` in the above functions, but let's try to explain it more explicitly: It exits a function, optionally, passing back an expression to the caller. A return statement with no arguments is the same as `return None`."
   ]
  },
  {
   "cell_type": "code",
   "execution_count": 17,
   "metadata": {
    "collapsed": false
   },
   "outputs": [
    {
     "name": "stdout",
     "output_type": "stream",
     "text": [
      "-10\n"
     ]
    }
   ],
   "source": [
    "# This function returns an expression\n",
    "def substractme( arg1, arg2 ):\n",
    "   # Substracts the second parameter from the first and returns the result.\"\n",
    "   total = arg1 - arg2\n",
    "   return total;\n",
    "\n",
    "# Now you can call sum function\n",
    "total = substractme( 10, 20 );\n",
    "print total "
   ]
  },
  {
   "cell_type": "markdown",
   "metadata": {},
   "source": [
    "Warning: The retuned arguments are also order-specific! See below:"
   ]
  },
  {
   "cell_type": "code",
   "execution_count": 18,
   "metadata": {
    "collapsed": false
   },
   "outputs": [
    {
     "name": "stdout",
     "output_type": "stream",
     "text": [
      "3\n",
      "-1\n",
      "2\n",
      "\n",
      "\n",
      "3\n",
      "2\n",
      "-1\n"
     ]
    }
   ],
   "source": [
    "# if you have a function:\n",
    "def arithmetic( a, b ):\n",
    "    sumab = a+b\n",
    "    substractab = a-b\n",
    "    multiplyab = a*b\n",
    "    return sumab, substractab, multiplyab\n",
    "    \n",
    "# This\n",
    "c, d, e = arithmetic(1,2)\n",
    "print c\n",
    "print d\n",
    "print e\n",
    "print '\\n'\n",
    "\n",
    "# does not alocate the same values to the varialbes c, d, e as this\n",
    "c, e, d = arithmetic(1,2)\n",
    "print c\n",
    "print d\n",
    "print e"
   ]
  },
  {
   "cell_type": "markdown",
   "metadata": {},
   "source": [
    "## 5. Scope of Variables\n",
    "\n",
    "All variables in a program may not be accessible at all locations in that program. This depends on where you have declared a variable. The scope of a variable determines the portion of the program where you can access a particular identifier.\n",
    "\n",
    "There are two basic scopes of variables in Python:\n",
    "\n",
    "Global variables\n",
    "\n",
    "Local variables\n",
    "\n",
    "\n",
    "#### Global vs. Local variables\n",
    "\n",
    "Variables that are defined inside a function body have a local scope, and those defined outside have a global scope.\n",
    "\n",
    "This means that local variables can be accessed only inside the function in which they are declared, whereas global variables can be accessed throughout the program body by all functions. When you call a function, the variables declared inside it are brought into scope. Following is a simple example −"
   ]
  },
  {
   "cell_type": "code",
   "execution_count": 15,
   "metadata": {
    "collapsed": true
   },
   "outputs": [],
   "source": [
    "total = 0; # This is global variable."
   ]
  },
  {
   "cell_type": "code",
   "execution_count": 17,
   "metadata": {
    "collapsed": false
   },
   "outputs": [
    {
     "name": "stdout",
     "output_type": "stream",
     "text": [
      "Inside the function (local) total:  -10\n",
      "Outside the function (global) total :  0\n"
     ]
    }
   ],
   "source": [
    "# Function definition is here\n",
    "def substractme( arg1, arg2 ):\n",
    "   # Substracts the second parameter from the first and return them.\"\n",
    "   total = arg1 - arg2; # Here total is a local variable.\n",
    "   print \"Inside the function (local) total: \", total \n",
    "   return total;\n",
    "\n",
    "# Now you can call sum function\n",
    "substractme( 10, 20 );\n",
    "print \"Outside the function (global) total : \", total "
   ]
  },
  {
   "cell_type": "markdown",
   "metadata": {},
   "source": [
    "## 6. Python Modules\n",
    "\n",
    "Simply, a module is a file consisting of Python code. A module can define functions, classes and variables. A module can also include runnable code.\n",
    "\n",
    "A module allows you to logically organise your Python code. Grouping related code into a module makes the code easier to understand and use. \n",
    "\n",
    "For example, in a new file, copy and paste the following, making sure you undertand the code. Name the file module_example.py:\n",
    "\n",
    "```\n",
    "def print_func( par ):\n",
    "       print \"Hello : \", par\n",
    "       return\n",
    "```"
   ]
  },
  {
   "cell_type": "markdown",
   "metadata": {},
   "source": [
    "#### The import Statement\n",
    "\n",
    "You can use any Python source file as a module by executing an import statement in some other Python source file. The import has the following syntax:\n",
    "\n",
    "`import module1[, module2[,... moduleN]`\n",
    "\n",
    "When the interpreter encounters an import statement, it imports the module if the module is present in the search path or the current directory.\n",
    "\n",
    "For example, to import the module module_example.py, you need to use the following command:"
   ]
  },
  {
   "cell_type": "code",
   "execution_count": 18,
   "metadata": {
    "collapsed": false
   },
   "outputs": [
    {
     "name": "stdout",
     "output_type": "stream",
     "text": [
      "Hello :  Zara\n"
     ]
    }
   ],
   "source": [
    "# Import module support\n",
    "import module_example as modex\n",
    "\n",
    "# Now you can call defined functions of the module, as follows\n",
    "modex.print_func(\"Zara\")"
   ]
  },
  {
   "cell_type": "markdown",
   "metadata": {},
   "source": [
    "A module is loaded only once, regardless of the number of times it is imported. This prevents the module execution from happening over and over again if multiple imports occur."
   ]
  },
  {
   "cell_type": "markdown",
   "metadata": {},
   "source": [
    "#### The `from...import` statement and the `from...import *` statement:\n",
    "\n",
    "Python's `from import` statement lets you import specific attributes from a module into the current namespace. It has the following syntaxL\n",
    "\n",
    "`from modname import name1[, name2[, ... nameN]]`\n",
    "\n",
    "For example, to import the function `sum` from the module `scipy`, use the following statement:"
   ]
  },
  {
   "cell_type": "code",
   "execution_count": 19,
   "metadata": {
    "collapsed": true
   },
   "outputs": [],
   "source": [
    "from scipy import sum as s"
   ]
  },
  {
   "cell_type": "markdown",
   "metadata": {},
   "source": [
    "This statement does not import the entire module/package scipy into the current namespace; it just introduces the item `sum` from the module `scipy`. Note that in this example it is renamed to `s`.\n",
    "\n",
    "It is also possible to import all names from a module into the current namespace by using the following import statement:"
   ]
  },
  {
   "cell_type": "code",
   "execution_count": 21,
   "metadata": {
    "collapsed": false,
    "scrolled": true
   },
   "outputs": [],
   "source": [
    "from scipy import *"
   ]
  },
  {
   "cell_type": "markdown",
   "metadata": {},
   "source": [
    "## Exercises\n",
    "\n",
    "1. Write a Python function to sum all the numbers in a list. \n",
    "2. Write a Python function to check whether a number is in a given range."
   ]
  },
  {
   "cell_type": "code",
   "execution_count": null,
   "metadata": {
    "collapsed": true
   },
   "outputs": [],
   "source": []
  },
  {
   "cell_type": "markdown",
   "metadata": {},
   "source": [
    "#### References:\n",
    "\n",
    "http://www.tutorialspoint.com/python/ , \n",
    "https://github.com/tobyhodges/ITPP , \n",
    "https://github.com/cmci/HTManalysisCourse/blob/master/CentreCourseProtocol.md#workflow-python-primer , \n",
    "http://cmci.embl.de/documents/ijcourses"
   ]
  },
  {
   "cell_type": "code",
   "execution_count": null,
   "metadata": {
    "collapsed": true
   },
   "outputs": [],
   "source": []
  }
 ],
 "metadata": {
  "kernelspec": {
   "display_name": "Python 2",
   "language": "python",
   "name": "python2"
  },
  "language_info": {
   "codemirror_mode": {
    "name": "ipython",
    "version": 2
   },
   "file_extension": ".py",
   "mimetype": "text/x-python",
   "name": "python",
   "nbconvert_exporter": "python",
   "pygments_lexer": "ipython2",
   "version": "2.7.12"
  }
 },
 "nbformat": 4,
 "nbformat_minor": 0
}
