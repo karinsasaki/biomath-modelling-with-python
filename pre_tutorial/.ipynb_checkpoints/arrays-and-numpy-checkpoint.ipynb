{
 "cells": [
  {
   "cell_type": "markdown",
   "metadata": {},
   "source": [
    "# Arrays and NumPy"
   ]
  },
  {
   "cell_type": "markdown",
   "metadata": {},
   "source": [
    "NumPy is a python library that can be used to manipulate arrays in simmilar ways to how MATLAB does it. It is used to facilitate the dealing with tools of linear algebra - vectors and matrices (here referred to as **arrays**)."
   ]
  },
  {
   "cell_type": "markdown",
   "metadata": {},
   "source": [
    "## 1. What are arrays?\n",
    "\n",
    "An array is a multi dimensional grid of data. Tables in Microsoft Excel can be thought of as arrays with dimensions \n",
    "`r × c × p` corresponding to `r` rows `c` columns and `p` pages. In numpy it is similar, but you can have multi-dimensional arrays, with more than three dimensions. The figures below illustrates arrays of different dimensions."
   ]
  },
  {
   "cell_type": "markdown",
   "metadata": {},
   "source": [
    "<img src=\"figA.jpeg\",width=600>"
   ]
  },
  {
   "cell_type": "markdown",
   "metadata": {},
   "source": [
    "There are many good reasons why one might want to use arrays. For example, for images and stoichiometric information of a collection of reactions are naturally stored as arrays (see the image below)."
   ]
  },
  {
   "cell_type": "markdown",
   "metadata": {},
   "source": [
    "An image as an array, with each entry being a pixel value: <img src=\"figC.png\">"
   ]
  },
  {
   "cell_type": "markdown",
   "metadata": {},
   "source": [
    "Stoichiometric matrix with each entry describing how a reactant is affected by a reaction: <img src=\"figD.png\">"
   ]
  },
  {
   "cell_type": "markdown",
   "metadata": {},
   "source": [
    "## 2. Create arrays using NumPy\n",
    "\n",
    "The first thing to do is to import the library:"
   ]
  },
  {
   "cell_type": "code",
   "execution_count": 2,
   "metadata": {
    "collapsed": false
   },
   "outputs": [],
   "source": [
    "import numpy as np "
   ]
  },
  {
   "cell_type": "markdown",
   "metadata": {},
   "source": [
    "In NumPy, arrays are lists, except that all the entries have to be of the same _data type_ (int8, int32, float, boolean, etc). \n",
    "\n",
    "Creating NumPy arrays is done using the same syntax as for a regular Python list andn in addition, using the NumPy function `array` as illustrated below. This function converts a list into a one-dimensional array, a list of lists in to a two-dimensional array, a list of list that is a list of lists into a three-dimensional array, etc. The variable class of such objects is `numpy.ndarray`:"
   ]
  },
  {
   "cell_type": "code",
   "execution_count": 4,
   "metadata": {
    "collapsed": false
   },
   "outputs": [
    {
     "name": "stdout",
     "output_type": "stream",
     "text": [
      "a =  [1 2 3 4 5 6 7 8 9] has 1 dimension(s); It is a variable of class <type 'numpy.ndarray'> and data type int64 \n",
      "\n",
      "b =  [[ 5]\n",
      " [ 6]\n",
      " [ 3]\n",
      " [-1]\n",
      " [ 6]\n",
      " [ 9]\n",
      " [ 2]\n",
      " [ 5]\n",
      " [ 5]] has 2 dimension(s); It is a variable of class <type 'numpy.ndarray'> and data type int64 \n",
      "\n",
      "A = \n",
      "[[ 1  2  3  4 -1 -2 -3 -4]\n",
      " [ 5  6  7  8 -5 -6 -7 -8]] \n",
      " has 2 dimension(s); It is a variable of class <type 'numpy.ndarray'> and data type int64 \n",
      "\n"
     ]
    }
   ],
   "source": [
    "# defining arrays\n",
    "a = np.array([1, 2, 3, 4, 5, 6, 7, 8, 9]) # a row vector, also called a 1x9 array\n",
    "b = np.array([[5], [6], [3], [-1], [6], [9], [2], [5], [5]]) # a column vector, also called a 9x1 array\n",
    "A = np.array([[1, 2, 3, 4, -1, -2, -3, -4], [5, 6, 7, 8, -5, -6, -7, -8]]) # a 2x8 matrix or array\n",
    "\n",
    "# display the results\n",
    "print 'a = ', a, 'has', len(a.shape), 'dimension(s);', 'It is a variable of class', type(a), 'and data type', a.dtype, '\\n'\n",
    "print 'b = ',  b, 'has', len(b.shape), 'dimension(s);', 'It is a variable of class', type(b), 'and data type', b.dtype, '\\n'\n",
    "print 'A = \\n',  A, '\\n has', len(A.shape), 'dimension(s);', 'It is a variable of class', type(A), 'and data type', A.dtype, '\\n'"
   ]
  },
  {
   "cell_type": "markdown",
   "metadata": {},
   "source": [
    "Note the use of the funcion `shape`, to show the number of entires in each dimension, the function `type` to get the _variable type_ (i.e. a numpy array) and `dtype` for the _data type_ (int64, float, boolean, etc)."
   ]
  },
  {
   "cell_type": "markdown",
   "metadata": {},
   "source": [
    "In more practical situations, the elements of an array are originally unknown, but its size is known. Hence, NumPy offers several functions to create arrays. For example, the function `zeros` creates an array full of zeros, the function `ones` creates an array full of ones, and the function `empty` creates an array whose initial content is random and depends on the state of the memory. For these you need to specify the dimensions sizes. Here are some examples of how to use such functions:"
   ]
  },
  {
   "cell_type": "code",
   "execution_count": 5,
   "metadata": {
    "collapsed": false
   },
   "outputs": [
    {
     "name": "stdout",
     "output_type": "stream",
     "text": [
      "c1 =  [1 2 3 4 5 6 7 8 9]\n",
      "c2 =  [1 3 5 7 9]\n",
      "c3 =  [10  9  8  7  6  5  4  3  2]\n",
      "c4 =  [ 0.   0.3  0.6  0.9  1.2  1.5  1.8]\n",
      "c5 =  [ 0.    0.25  0.5   0.75  1.    1.25  1.5   1.75  2.  ]\n",
      "d1 =  [[ 0.  0.  0.  0.]\n",
      " [ 0.  0.  0.  0.]\n",
      " [ 0.  0.  0.  0.]]\n",
      "d2 =  [[[ 1.  1.  1.  1.]\n",
      "  [ 1.  1.  1.  1.]\n",
      "  [ 1.  1.  1.  1.]]\n",
      "\n",
      " [[ 1.  1.  1.  1.]\n",
      "  [ 1.  1.  1.  1.]\n",
      "  [ 1.  1.  1.  1.]]]\n",
      "d3 =  [[  0.00000000e+000   0.00000000e+000   2.12277289e-314]\n",
      " [  2.16020418e-314   0.00000000e+000   4.17201483e-309]]\n"
     ]
    }
   ],
   "source": [
    "# Arrays with zeros, ones and random entries - here you need to specify the sizes of the dimensions (also known as axis in Python)\n",
    "d1 = np.zeros((3,4))  # 3 rows, 4 columns\n",
    "d2 = np.ones((2,3,4)) # 2 of 3 rows and 4 columns\n",
    "d3 = np.empty((2,3))  # 2 rows, 3 columns\n",
    "\n",
    "# Equally spaced arrays and sequences of numbers\n",
    "c1 = np.arange(1,10,1) # from 1 to 9, increasing with a step of 1\n",
    "c2 = np.arange(1,10,2) # from 1 to 9, increasing with a step of 2\n",
    "c3 = np.arange(10,1,-1) # from 10 to 2, decreasing with a step of 2\n",
    "c4 = np.arange( 0, 2, 0.3 ) # it accepts float arguments\n",
    "c5 = np.linspace( 0, 2, 9 )  # 9 numbers from 0 to 2\n",
    "\n",
    "# display    \n",
    "print 'c1 = ',  c1\n",
    "print 'c2 = ',  c2\n",
    "print 'c3 = ',  c3\n",
    "print 'c4 = ',  c4\n",
    "print 'c5 = ',  c5\n",
    "print 'd1 = ',  d1\n",
    "print 'd2 = ',  d2\n",
    "print 'd3 = ',  d3"
   ]
  },
  {
   "cell_type": "markdown",
   "metadata": {},
   "source": [
    "## 3. Manipulate arrays"
   ]
  },
  {
   "cell_type": "markdown",
   "metadata": {},
   "source": [
    "### Arithmetic with Arrays: Addition, multiplication, substraction, division, powers.\n",
    "\n",
    "Unlike in MATLAB, arithmetic operators on arrays apply *element-wise*. When an arithmetic operation is used on arrays, a new array is created and filled with the result."
   ]
  },
  {
   "cell_type": "code",
   "execution_count": 22,
   "metadata": {
    "collapsed": false
   },
   "outputs": [
    {
     "name": "stdout",
     "output_type": "stream",
     "text": [
      "a =  [1 2 3 4 5 6 7 8 9]\n",
      "element-element multiplication a*a: [ 1  4  9 16 25 36 49 64 81] (see figure)\n",
      "array multiplication a*a: [205] (see figure)\n",
      "raise each element of a to the power of 2: [ 3  0  1  6  7  4  5 10 11]\n",
      "divide each element of a by 2: [0 1 1 2 2 3 3 4 4]\n",
      "\n",
      " Check by hand each of these; Look at the examples in the image below.\n"
     ]
    }
   ],
   "source": [
    "# a is defined above\n",
    "\n",
    "aa = a*a\n",
    "print 'a = ', a\n",
    "print 'element-element multiplication a*a:', aa, '(see figure)' # element-wise array multiplication \n",
    "print 'array multiplication a*a:', np.dot(a,b), '(see figure)' # array multiplication (see figure)\n",
    "print 'raise each element of a to the power of 2:', a^2  # raise each element of a to the power of 2\n",
    "print 'divide each element of a by 2:', a/2 # divide each element of a by 2\n",
    "\n",
    "print '\\n Check by hand each of these; Look at the examples in the image below.'"
   ]
  },
  {
   "cell_type": "markdown",
   "metadata": {},
   "source": [
    "Element-element array multiplication: <img src=\"figF.png\">\n",
    "\n",
    "Array multiplication: <img src=\"figE.png\">"
   ]
  },
  {
   "cell_type": "markdown",
   "metadata": {},
   "source": [
    "### Array functions\n",
    "\n",
    "Arrays can be manipulated in other ways, apart from doing arithmetic on them. They can be reshaped, you can obtain information about them, etc. To do that, NumPy offers specific functions such as `len`, `shape` and `resize`. There  are general rules when it comes to using such functions, as described below:"
   ]
  },
  {
   "cell_type": "markdown",
   "metadata": {},
   "source": [
    "To use functions, enclose inputs to functions in round brackets:"
   ]
  },
  {
   "cell_type": "code",
   "execution_count": 24,
   "metadata": {
    "collapsed": false
   },
   "outputs": [
    {
     "name": "stdout",
     "output_type": "stream",
     "text": [
      "8\n"
     ]
    }
   ],
   "source": [
    "print np.max(A)"
   ]
  },
  {
   "cell_type": "markdown",
   "metadata": {},
   "source": [
    "Store output from a function by assigning it to a variable:"
   ]
  },
  {
   "cell_type": "code",
   "execution_count": 25,
   "metadata": {
    "collapsed": false
   },
   "outputs": [
    {
     "name": "stdout",
     "output_type": "stream",
     "text": [
      "8\n"
     ]
    }
   ],
   "source": [
    "maxA = np.max(A)\n",
    "print maxA"
   ]
  },
  {
   "cell_type": "markdown",
   "metadata": {},
   "source": [
    "Connect various functions:"
   ]
  },
  {
   "cell_type": "code",
   "execution_count": 9,
   "metadata": {
    "collapsed": false
   },
   "outputs": [
    {
     "name": "stdout",
     "output_type": "stream",
     "text": [
      " [[ 0  1  2  3]\n",
      " [ 4  5  6  7]\n",
      " [ 8  9 10 11]]\n"
     ]
    }
   ],
   "source": [
    "b = np.arange(12).reshape(3,4)\n",
    "print b"
   ]
  },
  {
   "cell_type": "markdown",
   "metadata": {},
   "source": [
    "Remember that you can (and he enourage you to) look up the use of these (and other) functions on the documentation! "
   ]
  },
  {
   "cell_type": "markdown",
   "metadata": {},
   "source": [
    "## 4. Index and slice arrays\n",
    "\n",
    "### Slicing\n",
    "\n",
    "Entries in arrays can be accessed by indicating the name of the array and the entry position in each dimension inside square brackets:"
   ]
  },
  {
   "cell_type": "code",
   "execution_count": 13,
   "metadata": {
    "collapsed": false
   },
   "outputs": [
    {
     "name": "stdout",
     "output_type": "stream",
     "text": [
      "e =  [  0   1   8  27  64 125 216 343 512 729] \n",
      "\n",
      "Third entry in e: 8 \n",
      "\n",
      "Entries 2 to 5 in e: [ 8 27 64] \n",
      "\n",
      "b = \n",
      "[[ 0  1  2  3]\n",
      " [ 4  5  6  7]\n",
      " [ 8  9 10 11]]\n",
      "Entry in row 1, column 1 in b:  5 \n",
      "\n",
      "Middle-bottom minor array of b: \n",
      "[[ 5  6]\n",
      " [ 9 10]]\n"
     ]
    }
   ],
   "source": [
    "e = np.arange(10)**3  # define new array\n",
    "print 'e = ', e, '\\n'\n",
    "print 'Third entry in e:', e[2], '\\n' # access the third entry from left to right -> indexing\n",
    "print 'Entries 2 to 5 in e:', e[2:5], '\\n' # access entries 3 to 5 -> slicing\n",
    "\n",
    "# recall b is defined above\n",
    "print 'b = \\n', b\n",
    "print 'Entry in row 1, column 1 in b: ', b[1,1], '\\n' # access entry in position 1,1 -> indexing\n",
    "print 'Middle-bottom minor array of b: \\n', b[1:3,1:-1] # access entries in the second and third rows and columns -> slicing"
   ]
  },
  {
   "cell_type": "markdown",
   "metadata": {},
   "source": [
    "### Logical indexing:\n",
    "\n",
    "You can use the logical operators `>, >=, <, <=, ==, |, &` (greater than, greater than or equal to, less than, less than or equal to, equal, or, and) to test entries in arrays, as follows:"
   ]
  },
  {
   "cell_type": "code",
   "execution_count": 31,
   "metadata": {
    "collapsed": false
   },
   "outputs": [
    {
     "name": "stdout",
     "output_type": "stream",
     "text": [
      "[False False False False False False False False False]\n"
     ]
    }
   ],
   "source": [
    "print a<0.5 # gives the entry values of the elements of a that are less than 0.5."
   ]
  },
  {
   "cell_type": "markdown",
   "metadata": {},
   "source": [
    "This operation generates a new array of the same size as that being tested, but with entries either `False` or `True` depending on how they evaluate."
   ]
  },
  {
   "cell_type": "markdown",
   "metadata": {},
   "source": [
    "## 5. Help and Documentation\n",
    "\n",
    "You have already used many of the tools NumPy has on offer. You might want to read more about how those functions are used, and you should! \n",
    "To do so, you can type in the terminal:\n",
    "\n",
    "help(functionname)\n",
    "\n",
    "You can also check the documentation and search the name of the function there."
   ]
  },
  {
   "cell_type": "markdown",
   "metadata": {},
   "source": [
    "## 6. Exercises \n",
    "\n",
    "1. Create a `3 × 3` random integer array `A` and two `3 × 1` integer vectors `a` and `b`. \n",
    "\n",
    "2. Multiply `a` by the scalar 5 and name this new vector `c`.\n",
    "\n",
    "3. Compute the element-wise product of `a` and `b`. What do you get? \n",
    "\n",
    "4. What do you get for `A[1,2]`, `A[:3]`, `A[0:2, 0:2]`?\n",
    "\n",
    "5. Replace the second column of `A` with `b` (Hint: use indexing).\n",
    "\n",
    "6. Extract the following from `A`:\n",
    "    1. row 2, column 1 \n",
    "    2. row 3, all columns\n",
    "    3. rows 2,3 columns 2,3\n",
    "\n",
    "7. Compute the (mathematical) array product of `A` and `b`. What do you get? Can you do the element-wise product? Why/why not?\n",
    "\n",
    "8. Concatenate `b` with itself 3 times to get a `3 × 3` array `B`. Use functions `vstack` and `hstack`.\n",
    "\n",
    "9. Multiply `A` and `B` element-wise and assign the result to a new variable C.\n",
    "\n",
    "10. Use the function `shape` to save the dimensions of C in rC and cC. If necessary, use thedocumentation.\n",
    "\n",
    "11. Use help to get information about `len` - how does it differ from `shape`?\n",
    "\n",
    "12. Delete the first row of `C`.\n",
    "\n",
    "13. What are the dimensions of this new array?\n",
    "\n",
    "14. Find the elements of `C` that are less than `5`.\n",
    "\n",
    "15. Create a `24 × 3` matrix `Q`. \n",
    "\n",
    "16. Calculate minimum, maximum, mean and standard deviation of each column of `Q`. Use help for find out about the functions min, max, mean and std."
   ]
  },
  {
   "cell_type": "code",
   "execution_count": 74,
   "metadata": {
    "collapsed": false
   },
   "outputs": [
    {
     "name": "stdout",
     "output_type": "stream",
     "text": [
      "\n",
      " 1.\n",
      "A = \n",
      "[[74 42 53]\n",
      " [59 96 66]\n",
      " [53  0 63]]\n",
      "a = \n",
      "[[24]\n",
      " [24]\n",
      " [ 4]]\n",
      "b = \n",
      "[[97]\n",
      " [11]\n",
      " [85]]\n",
      "\n",
      " 2.\n",
      "c = \n",
      "[[72]\n",
      " [72]\n",
      " [12]]\n",
      "\n",
      " 3.\n",
      "element-element product: [[2328]\n",
      " [ 264]\n",
      " [ 340]]\n",
      "\n",
      " 4.\n",
      "Entry 1,2: \n",
      "66\n",
      "[[74 42 53]\n",
      " [59 96 66]\n",
      " [53  0 63]]\n",
      "Second column: \n",
      "[42 96  0]\n",
      "Top left minor array: \n",
      "[[74 42]\n",
      " [59 96]]\n",
      "\n",
      " 5.\n",
      "\n",
      " 6.\n",
      "A = \n",
      "[[74 42 53]\n",
      " [59 96 66]\n",
      " [53  0 63]]\n",
      "row 2, column 1:\n",
      "59\n",
      "row 3, all columns:\n",
      "[53  0 63]\n",
      "rows 2,3 columns 2,3:\n",
      "[[96]]\n",
      "\n",
      " 7.\n",
      "[[12145]\n",
      " [12389]\n",
      " [10496]]\n",
      "\n",
      " 8.\n",
      "[[97 97 97]\n",
      " [11 11 11]\n",
      " [85 85 85]]\n",
      "\n",
      " 9.\n",
      "[[7178 4074 5141]\n",
      " [ 649 1056  726]\n",
      " [4505    0 5355]]\n",
      "\n",
      " 10.\n",
      "Cr =  3\n",
      "Cc =  3\n",
      "\n",
      " 11.\n",
      "\n",
      " 12.\n",
      "\n",
      " 13.\n",
      "\n",
      " 14.\n",
      "\n",
      " 15.\n",
      "[[90 23 28]\n",
      " [89 30 66]\n",
      " [ 1  5 77]\n",
      " [20 67 95]\n",
      " [69 33 42]\n",
      " [18 60 63]\n",
      " [ 8 73 78]\n",
      " [66 69 69]\n",
      " [96 49 46]\n",
      " [78 12  2]\n",
      " [12 89 23]\n",
      " [14 23 32]\n",
      " [92 33 48]\n",
      " [17 93 15]\n",
      " [60 92 78]\n",
      " [53  9 29]\n",
      " [63  4 20]\n",
      " [73 35 76]\n",
      " [ 8 91 80]\n",
      " [98 51  0]\n",
      " [ 5 97 10]\n",
      " [11 72 19]\n",
      " [92 55 73]\n",
      " [78  0 22]]\n",
      "\n",
      " 16.\n",
      "98\n",
      "0\n",
      "48.1527777778\n",
      "31.5861519069\n"
     ]
    }
   ],
   "source": [
    "# 1.\n",
    "print '\\n 1.'\n",
    "A = np.random.randint(0,high=100,size=(3,3))\n",
    "a = np.random.randint(0,high=100,size=(3,1))\n",
    "b = np.random.randint(0,high=100,size=(3,1))\n",
    "print 'A = \\n', A\n",
    "print 'a = \\n', a\n",
    "print 'b = \\n', b\n",
    "\n",
    "# 2.\n",
    "print '\\n 2.'\n",
    "c = 3*a\n",
    "print 'c = \\n', c\n",
    "\n",
    "# 3.\n",
    "print '\\n 3.'\n",
    "print 'element-element product:', a*b\n",
    "\n",
    "# 4. \n",
    "print '\\n 4.'\n",
    "print 'Entry 1,2: \\n', A[1,2]\n",
    "print A\n",
    "print 'Second column: \\n', A[:3,1]\n",
    "print 'Top left minor array: \\n', A[0:2, 0:2]\n",
    "\n",
    "# 5. \n",
    "print '\\n 5.'\n",
    "#print A\n",
    "#print A[:3,1]=b\n",
    "\n",
    "# 6. \n",
    "print '\\n 6.'\n",
    "print 'A = \\n', A\n",
    "print 'row 2, column 1:\\n', A[1,0]\n",
    "print 'row 3, all columns:\\n', A[2,:]\n",
    "print 'rows 2,3 columns 2,3:\\n', A[1:2,1:2]\n",
    "\n",
    "# 7. \n",
    "print '\\n 7.'\n",
    "print np.dot(A,b)\n",
    "\n",
    "# 8. \n",
    "print '\\n 8.'\n",
    "B = np.hstack([b,b,b])\n",
    "print B\n",
    "\n",
    "# 9. \n",
    "print '\\n 9.'\n",
    "C = A*B\n",
    "print C\n",
    "\n",
    "# 10. \n",
    "print '\\n 10.'\n",
    "Cr, Cc = np.shape(C)\n",
    "print 'Cr = ', Cr\n",
    "print 'Cc = ', Cc\n",
    "\n",
    "# 11. \n",
    "print '\\n 11.'\n",
    "\n",
    "# 12. \n",
    "print '\\n 12.'\n",
    "\n",
    "# 13. \n",
    "print '\\n 13.'\n",
    "\n",
    "# 14. \n",
    "print '\\n 14.'\n",
    "\n",
    "# 15. \n",
    "print '\\n 15.'\n",
    "Q = np.random.randint(0,high=100,size=(24,3))\n",
    "print Q\n",
    "\n",
    "# 16. \n",
    "print '\\n 16.'\n",
    "Qmax = np.max(Q)\n",
    "Qmin = np.min(Q)\n",
    "Qmean = np.mean(Q)\n",
    "Qstd = np.std(Q)\n",
    "print Qmax\n",
    "print Qmin\n",
    "print Qmean\n",
    "print Qstd"
   ]
  },
  {
   "cell_type": "markdown",
   "metadata": {
    "collapsed": true
   },
   "source": [
    "#### References\n",
    "\n",
    "https://docs.scipy.org/doc/numpy-dev/user/quickstart.html"
   ]
  },
  {
   "cell_type": "code",
   "execution_count": null,
   "metadata": {
    "collapsed": true
   },
   "outputs": [],
   "source": []
  }
 ],
 "metadata": {
  "kernelspec": {
   "display_name": "Python 2",
   "language": "python",
   "name": "python2"
  },
  "language_info": {
   "codemirror_mode": {
    "name": "ipython",
    "version": 2
   },
   "file_extension": ".py",
   "mimetype": "text/x-python",
   "name": "python",
   "nbconvert_exporter": "python",
   "pygments_lexer": "ipython2",
   "version": "2.7.11"
  }
 },
 "nbformat": 4,
 "nbformat_minor": 0
}
