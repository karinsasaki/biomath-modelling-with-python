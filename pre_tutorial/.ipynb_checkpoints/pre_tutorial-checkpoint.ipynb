{
 "cells": [
  {
   "cell_type": "markdown",
   "metadata": {},
   "source": [
    "# Reminder of importing modules"
   ]
  },
  {
   "cell_type": "markdown",
   "metadata": {},
   "source": [
    "Modules in Python are simply Python files with the .py extension, which  implement a set of functions. The purpose of writting modules is to group  related code together, to make it easier to understand and use, sort of as a  'black box'.\n",
    "\n",
    "Packages are name spaces that contain multiple packages and modules themselves. You can think of them as 'directories'.\n",
    "\n",
    "To be able to use the functions in a particular package or module, you need  to 'import' that module or package. To do so, you need to use the import command. For example, to import the package numpy, which enables the manipulation of arrays, you would do:"
   ]
  },
  {
   "cell_type": "code",
   "execution_count": null,
   "metadata": {
    "collapsed": true
   },
   "outputs": [],
   "source": [
    "import numpy as np                 # Array manipulation package\n",
    "import matplotlib.pyplot as plt    # Plotting package\n",
    "import skimage.io as io            # Image file manipulation module"
   ]
  }
 ],
 "metadata": {
  "kernelspec": {
   "display_name": "Python 2",
   "language": "python",
   "name": "python2"
  },
  "language_info": {
   "codemirror_mode": {
    "name": "ipython",
    "version": 2
   },
   "file_extension": ".py",
   "mimetype": "text/x-python",
   "name": "python",
   "nbconvert_exporter": "python",
   "pygments_lexer": "ipython2",
   "version": "2.7.11"
  }
 },
 "nbformat": 4,
 "nbformat_minor": 0
}
